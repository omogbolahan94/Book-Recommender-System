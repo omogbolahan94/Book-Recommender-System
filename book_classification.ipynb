{
 "cells": [
  {
   "cell_type": "markdown",
   "id": "ffc33561-f28a-4630-b997-002f518f113d",
   "metadata": {},
   "source": [
    "### Introduction\n",
    "The aim of this notebook is to ensure all books belong to either a `Fiction` or `Nonfiction` category. There are different book categories in the dataset. Here is the approach I planned to follow:\n",
    "* An category that contains the word 'fiction' will be classified as `Fiction`.\n",
    "* An category that contains the word 'nonfiction' will be classified as `Nonfiction`.\n",
    "* Every other categories will be labeled as either `Fiction` or `Nonfiction` based on a pretrained classification model from Huggingface."
   ]
  },
  {
   "cell_type": "code",
   "execution_count": 4,
   "id": "4077ccf5-001f-4247-91bc-f11ee54e3a58",
   "metadata": {},
   "outputs": [],
   "source": [
    "from tqdm import tqdm\n",
    "\n",
    "\n",
    "import numpy as np\n",
    "import pandas as pd\n",
    "\n",
    "from transformers import pipeline\n",
    "\n",
    "from dotenv import load_dotenv\n",
    "\n",
    "# import warnings\n",
    "# warnings.filterwarnings(\"ignore\")"
   ]
  },
  {
   "cell_type": "code",
   "execution_count": 5,
   "id": "3917fcd2-a5a5-463a-b716-a7e149aa2dc6",
   "metadata": {},
   "outputs": [
    {
     "data": {
      "text/plain": [
       "True"
      ]
     },
     "execution_count": 5,
     "metadata": {},
     "output_type": "execute_result"
    }
   ],
   "source": [
    "load_dotenv()"
   ]
  },
  {
   "cell_type": "markdown",
   "id": "a2df1d63-3bc3-426e-ae08-2ed08ea16640",
   "metadata": {},
   "source": [
    "### Data Loading\n",
    "\n",
    "Loading the cleaned dataset that was saved form the `data_exploration_cleaning_analysis.ipynb` notebook."
   ]
  },
  {
   "cell_type": "code",
   "execution_count": 6,
   "id": "49310cd7-f78b-4ef3-83d1-030460ede4c9",
   "metadata": {},
   "outputs": [],
   "source": [
    "books = pd.read_csv(\"data/books_cleaned.csv\")"
   ]
  },
  {
   "cell_type": "code",
   "execution_count": 6,
   "id": "856f990b-28a6-439e-bc62-08935361d383",
   "metadata": {},
   "outputs": [
    {
     "name": "stdout",
     "output_type": "stream",
     "text": [
      "<class 'pandas.core.frame.DataFrame'>\n",
      "RangeIndex: 5693 entries, 0 to 5692\n",
      "Data columns (total 13 columns):\n",
      " #   Column              Non-Null Count  Dtype  \n",
      "---  ------              --------------  -----  \n",
      " 0   isbn13              5693 non-null   int64  \n",
      " 1   isbn10              5693 non-null   object \n",
      " 2   title               5693 non-null   object \n",
      " 3   authors             5646 non-null   object \n",
      " 4   categories          5662 non-null   object \n",
      " 5   thumbnail           5506 non-null   object \n",
      " 6   description         5693 non-null   object \n",
      " 7   published_year      5693 non-null   float64\n",
      " 8   average_rating      5693 non-null   float64\n",
      " 9   num_pages           5693 non-null   float64\n",
      " 10  ratings_count       5693 non-null   float64\n",
      " 11  title_and_subtitle  5693 non-null   object \n",
      " 12  tagged_description  5693 non-null   object \n",
      "dtypes: float64(4), int64(1), object(8)\n",
      "memory usage: 578.3+ KB\n"
     ]
    }
   ],
   "source": [
    "books.info()"
   ]
  },
  {
   "cell_type": "markdown",
   "id": "3a5103a9-7087-4bb4-8a26-48b64a3ff2c6",
   "metadata": {},
   "source": [
    "### Exploring the `categories` Column\n",
    "\n",
    "I would be creating a new column that containt two (2) unique values: `Fiction` and `Nonfiction`.\n",
    "\n",
    "The top 20 most popular categories are:"
   ]
  },
  {
   "cell_type": "code",
   "execution_count": 7,
   "id": "88b82753-64a9-4253-8ba1-486d77247e28",
   "metadata": {},
   "outputs": [
    {
     "name": "stdout",
     "output_type": "stream",
     "text": [
      "There are 499 unique book categories\n",
      "\n",
      "The first 20 most popular books are:-\n"
     ]
    },
    {
     "data": {
      "text/html": [
       "<div>\n",
       "<style scoped>\n",
       "    .dataframe tbody tr th:only-of-type {\n",
       "        vertical-align: middle;\n",
       "    }\n",
       "\n",
       "    .dataframe tbody tr th {\n",
       "        vertical-align: top;\n",
       "    }\n",
       "\n",
       "    .dataframe thead th {\n",
       "        text-align: right;\n",
       "    }\n",
       "</style>\n",
       "<table border=\"1\" class=\"dataframe\">\n",
       "  <thead>\n",
       "    <tr style=\"text-align: right;\">\n",
       "      <th></th>\n",
       "      <th>categories</th>\n",
       "      <th>count</th>\n",
       "    </tr>\n",
       "  </thead>\n",
       "  <tbody>\n",
       "    <tr>\n",
       "      <th>0</th>\n",
       "      <td>Fiction</td>\n",
       "      <td>2269</td>\n",
       "    </tr>\n",
       "    <tr>\n",
       "      <th>1</th>\n",
       "      <td>Juvenile Fiction</td>\n",
       "      <td>456</td>\n",
       "    </tr>\n",
       "    <tr>\n",
       "      <th>2</th>\n",
       "      <td>Biography &amp; Autobiography</td>\n",
       "      <td>348</td>\n",
       "    </tr>\n",
       "    <tr>\n",
       "      <th>3</th>\n",
       "      <td>History</td>\n",
       "      <td>226</td>\n",
       "    </tr>\n",
       "    <tr>\n",
       "      <th>4</th>\n",
       "      <td>Literary Criticism</td>\n",
       "      <td>138</td>\n",
       "    </tr>\n",
       "    <tr>\n",
       "      <th>5</th>\n",
       "      <td>Philosophy</td>\n",
       "      <td>129</td>\n",
       "    </tr>\n",
       "    <tr>\n",
       "      <th>6</th>\n",
       "      <td>Religion</td>\n",
       "      <td>126</td>\n",
       "    </tr>\n",
       "    <tr>\n",
       "      <th>7</th>\n",
       "      <td>Comics &amp; Graphic Novels</td>\n",
       "      <td>125</td>\n",
       "    </tr>\n",
       "    <tr>\n",
       "      <th>8</th>\n",
       "      <td>Drama</td>\n",
       "      <td>99</td>\n",
       "    </tr>\n",
       "    <tr>\n",
       "      <th>9</th>\n",
       "      <td>Juvenile Nonfiction</td>\n",
       "      <td>81</td>\n",
       "    </tr>\n",
       "    <tr>\n",
       "      <th>10</th>\n",
       "      <td>Science</td>\n",
       "      <td>62</td>\n",
       "    </tr>\n",
       "    <tr>\n",
       "      <th>11</th>\n",
       "      <td>Poetry</td>\n",
       "      <td>58</td>\n",
       "    </tr>\n",
       "    <tr>\n",
       "      <th>12</th>\n",
       "      <td>Business &amp; Economics</td>\n",
       "      <td>56</td>\n",
       "    </tr>\n",
       "    <tr>\n",
       "      <th>13</th>\n",
       "      <td>Literary Collections</td>\n",
       "      <td>53</td>\n",
       "    </tr>\n",
       "    <tr>\n",
       "      <th>14</th>\n",
       "      <td>Social Science</td>\n",
       "      <td>52</td>\n",
       "    </tr>\n",
       "    <tr>\n",
       "      <th>15</th>\n",
       "      <td>Performing Arts</td>\n",
       "      <td>43</td>\n",
       "    </tr>\n",
       "    <tr>\n",
       "      <th>16</th>\n",
       "      <td>Body, Mind &amp; Spirit</td>\n",
       "      <td>38</td>\n",
       "    </tr>\n",
       "    <tr>\n",
       "      <th>17</th>\n",
       "      <td>Art</td>\n",
       "      <td>37</td>\n",
       "    </tr>\n",
       "    <tr>\n",
       "      <th>18</th>\n",
       "      <td>Travel</td>\n",
       "      <td>37</td>\n",
       "    </tr>\n",
       "    <tr>\n",
       "      <th>19</th>\n",
       "      <td>Cooking</td>\n",
       "      <td>36</td>\n",
       "    </tr>\n",
       "  </tbody>\n",
       "</table>\n",
       "</div>"
      ],
      "text/plain": [
       "                   categories  count\n",
       "0                     Fiction   2269\n",
       "1            Juvenile Fiction    456\n",
       "2   Biography & Autobiography    348\n",
       "3                     History    226\n",
       "4          Literary Criticism    138\n",
       "5                  Philosophy    129\n",
       "6                    Religion    126\n",
       "7     Comics & Graphic Novels    125\n",
       "8                       Drama     99\n",
       "9         Juvenile Nonfiction     81\n",
       "10                    Science     62\n",
       "11                     Poetry     58\n",
       "12       Business & Economics     56\n",
       "13       Literary Collections     53\n",
       "14             Social Science     52\n",
       "15            Performing Arts     43\n",
       "16        Body, Mind & Spirit     38\n",
       "17                        Art     37\n",
       "18                     Travel     37\n",
       "19                    Cooking     36"
      ]
     },
     "execution_count": 7,
     "metadata": {},
     "output_type": "execute_result"
    }
   ],
   "source": [
    "popular_categories = books[\"categories\"].value_counts().reset_index()\n",
    "print(f\"There are {popular_categories.shape[0]} unique book categories\")\n",
    "\n",
    "print(f\"\\nThe first 20 most popular books are:-\")\n",
    "popular_categories[:20]"
   ]
  },
  {
   "cell_type": "markdown",
   "id": "28fdc1bc-1f82-4452-94dd-60a93d515cf8",
   "metadata": {},
   "source": [
    "Now, examine all categories that contains the word fiction and nonficition:"
   ]
  },
  {
   "cell_type": "code",
   "execution_count": 8,
   "id": "e43e0c2e-f1c3-4ec2-aff6-42e4578fbf21",
   "metadata": {},
   "outputs": [
    {
     "name": "stdout",
     "output_type": "stream",
     "text": [
      "The total number of fictional books recorded are: 2902.\n",
      "\n",
      "These categories are:\n",
      "['Fiction' 'Fantasy fiction' 'English fiction' 'Science fiction'\n",
      " 'American fiction' 'Juvenile Fiction' 'Fantasy fiction, English'\n",
      " 'FICTION' 'Juvenile Nonfiction' 'Young Adult Fiction'\n",
      " 'Australian fiction' 'Domestic fiction' 'Classical fiction'\n",
      " 'Historical fiction' 'Experimental fiction, American'\n",
      " 'Experimental fiction' 'Diary fiction' 'Adventure fiction'\n",
      " 'Political fiction' 'Occult fiction' 'Arabic fiction' 'Czech fiction'\n",
      " 'Alternative histories (Fiction)' 'Boarding school-fiction'\n",
      " 'Fantasy fiction, American' 'Humorous fiction' 'JUVENILE FICTION'\n",
      " 'European fiction' 'Science fiction, American' 'Christian fiction'\n",
      " 'Indic fiction (English)']\n"
     ]
    }
   ],
   "source": [
    "fictional_books = books[books[\"categories\"].str.lower().str.contains(\"fiction\", na=False)]\n",
    "print(f\"The total number of fictional books recorded are: {fictional_books.shape[0]}.\")\n",
    "print(f\"\\nThese categories are:\")\n",
    "fictional_categories = fictional_books.categories.unique()\n",
    "print(fictional_categories)"
   ]
  },
  {
   "cell_type": "code",
   "execution_count": 9,
   "id": "710d917c-01d0-464a-a0c8-076304723385",
   "metadata": {},
   "outputs": [
    {
     "name": "stdout",
     "output_type": "stream",
     "text": [
      "The total number of nonfictional books recorded are: 81.\n",
      "\n",
      "These categories are:\n",
      "['Juvenile Nonfiction']\n"
     ]
    }
   ],
   "source": [
    "non_fictional_books = books[books[\"categories\"].str.lower().str.contains(\"nonfiction\", na=False)]\n",
    "print(f\"The total number of nonfictional books recorded are: {non_fictional_books.shape[0]}.\")\n",
    "print(f\"\\nThese categories are:\")\n",
    "non_fictional_categories = non_fictional_books.categories.unique()\n",
    "print(non_fictional_categories)"
   ]
  },
  {
   "cell_type": "markdown",
   "id": "4b44f24f-39d9-4d0b-ab7c-266f4406536b",
   "metadata": {},
   "source": [
    "Some of the columns form the most popular categories do not contain the word `fiction` or `nonfiction` but it is obvious they can fictional or non-fictional. Recreating the new column:"
   ]
  },
  {
   "cell_type": "code",
   "execution_count": 10,
   "id": "4bff2ee5-fe91-4a35-9d27-b897ee7dfc36",
   "metadata": {},
   "outputs": [
    {
     "data": {
      "text/plain": [
       "array(['Fiction', 'Juvenile Fiction', 'Biography & Autobiography',\n",
       "       'History', 'Literary Criticism', 'Philosophy', 'Religion',\n",
       "       'Comics & Graphic Novels', 'Drama', 'Juvenile Nonfiction',\n",
       "       'Science', 'Poetry', 'Business & Economics',\n",
       "       'Literary Collections', 'Social Science', 'Performing Arts',\n",
       "       'Body, Mind & Spirit', 'Art', 'Travel', 'Cooking'], dtype=object)"
      ]
     },
     "execution_count": 10,
     "metadata": {},
     "output_type": "execute_result"
    }
   ],
   "source": [
    "# names of the popular categories:\n",
    "popular_categories.categories[:20].unique()"
   ]
  },
  {
   "cell_type": "code",
   "execution_count": 11,
   "id": "7c3e49c2-3d6e-4994-a37b-e13633a18fca",
   "metadata": {},
   "outputs": [],
   "source": [
    "fictional_category_mapping = {fictional_category:\"Fiction\" for fictional_category in fictional_categories}\n",
    "\n",
    "non_fictional_category_mapping = {non_fictional_category:\"Nonfiction\" for non_fictional_category in non_fictional_categories}\n",
    "\n",
    "other_category_mapping = {\n",
    " 'Biography & Autobiography': \"Nonfiction\",\n",
    " 'History': \"Nonfiction\",\n",
    " 'Literary Criticism': \"Nonfiction\",\n",
    " 'Philosophy': \"Nonfiction\",\n",
    " 'Religion': \"Nonfiction\",\n",
    " 'Comics & Graphic Novels': \"Fiction\",\n",
    " 'Drama': \"Fiction\",\n",
    " 'Science': \"Nonfiction\",\n",
    " 'Poetry': \"Fiction\"}\n",
    "\n",
    "# combine all categories together\n",
    "category_mapping = {**fictional_category_mapping, **non_fictional_category_mapping, **other_category_mapping}"
   ]
  },
  {
   "cell_type": "code",
   "execution_count": 12,
   "id": "919e8312-54cd-452a-abf4-555498130a6f",
   "metadata": {},
   "outputs": [],
   "source": [
    "books[\"simple_categories\"] = books[\"categories\"].map(category_mapping)"
   ]
  },
  {
   "cell_type": "code",
   "execution_count": 13,
   "id": "9082ba49-67e2-4dc2-855c-f318c8b9dead",
   "metadata": {},
   "outputs": [
    {
     "data": {
      "text/html": [
       "<div>\n",
       "<style scoped>\n",
       "    .dataframe tbody tr th:only-of-type {\n",
       "        vertical-align: middle;\n",
       "    }\n",
       "\n",
       "    .dataframe tbody tr th {\n",
       "        vertical-align: top;\n",
       "    }\n",
       "\n",
       "    .dataframe thead th {\n",
       "        text-align: right;\n",
       "    }\n",
       "</style>\n",
       "<table border=\"1\" class=\"dataframe\">\n",
       "  <thead>\n",
       "    <tr style=\"text-align: right;\">\n",
       "      <th></th>\n",
       "      <th>isbn13</th>\n",
       "      <th>isbn10</th>\n",
       "      <th>title</th>\n",
       "      <th>authors</th>\n",
       "      <th>categories</th>\n",
       "      <th>thumbnail</th>\n",
       "      <th>description</th>\n",
       "      <th>published_year</th>\n",
       "      <th>average_rating</th>\n",
       "      <th>num_pages</th>\n",
       "      <th>ratings_count</th>\n",
       "      <th>title_and_subtitle</th>\n",
       "      <th>tagged_description</th>\n",
       "      <th>simple_categories</th>\n",
       "    </tr>\n",
       "  </thead>\n",
       "  <tbody>\n",
       "    <tr>\n",
       "      <th>0</th>\n",
       "      <td>9780002005883</td>\n",
       "      <td>0002005883</td>\n",
       "      <td>Gilead</td>\n",
       "      <td>Marilynne Robinson</td>\n",
       "      <td>Fiction</td>\n",
       "      <td>http://books.google.com/books/content?id=KQZCP...</td>\n",
       "      <td>A NOVEL THAT READERS and critics have been eag...</td>\n",
       "      <td>2004.0</td>\n",
       "      <td>3.85</td>\n",
       "      <td>247.0</td>\n",
       "      <td>361.0</td>\n",
       "      <td>Gilead</td>\n",
       "      <td>9780002005883 A NOVEL THAT READERS and critics...</td>\n",
       "      <td>Fiction</td>\n",
       "    </tr>\n",
       "    <tr>\n",
       "      <th>1</th>\n",
       "      <td>9780002261982</td>\n",
       "      <td>0002261987</td>\n",
       "      <td>Spider's Web</td>\n",
       "      <td>Charles Osborne;Agatha Christie</td>\n",
       "      <td>Detective and mystery stories</td>\n",
       "      <td>http://books.google.com/books/content?id=gA5GP...</td>\n",
       "      <td>A new 'Christie for Christmas' -- a full-lengt...</td>\n",
       "      <td>2000.0</td>\n",
       "      <td>3.83</td>\n",
       "      <td>241.0</td>\n",
       "      <td>5164.0</td>\n",
       "      <td>Spider's Web: A Novel</td>\n",
       "      <td>9780002261982 A new 'Christie for Christmas' -...</td>\n",
       "      <td>NaN</td>\n",
       "    </tr>\n",
       "  </tbody>\n",
       "</table>\n",
       "</div>"
      ],
      "text/plain": [
       "          isbn13      isbn10         title                          authors  \\\n",
       "0  9780002005883  0002005883        Gilead               Marilynne Robinson   \n",
       "1  9780002261982  0002261987  Spider's Web  Charles Osborne;Agatha Christie   \n",
       "\n",
       "                      categories  \\\n",
       "0                        Fiction   \n",
       "1  Detective and mystery stories   \n",
       "\n",
       "                                           thumbnail  \\\n",
       "0  http://books.google.com/books/content?id=KQZCP...   \n",
       "1  http://books.google.com/books/content?id=gA5GP...   \n",
       "\n",
       "                                         description  published_year  \\\n",
       "0  A NOVEL THAT READERS and critics have been eag...          2004.0   \n",
       "1  A new 'Christie for Christmas' -- a full-lengt...          2000.0   \n",
       "\n",
       "   average_rating  num_pages  ratings_count     title_and_subtitle  \\\n",
       "0            3.85      247.0          361.0                 Gilead   \n",
       "1            3.83      241.0         5164.0  Spider's Web: A Novel   \n",
       "\n",
       "                                  tagged_description simple_categories  \n",
       "0  9780002005883 A NOVEL THAT READERS and critics...           Fiction  \n",
       "1  9780002261982 A new 'Christie for Christmas' -...               NaN  "
      ]
     },
     "execution_count": 13,
     "metadata": {},
     "output_type": "execute_result"
    }
   ],
   "source": [
    "books.head(2)"
   ]
  },
  {
   "cell_type": "markdown",
   "id": "9a2c9569-8b81-4284-a219-a9597bca39aa",
   "metadata": {},
   "source": [
    "Books that are note in category_mapping will be assigned `NaN`. \n",
    "\n",
    "Examining categories that are not `NaN`:"
   ]
  },
  {
   "cell_type": "code",
   "execution_count": 14,
   "id": "52158d28-b137-43d8-8b0b-a7c1bc1056b4",
   "metadata": {},
   "outputs": [
    {
     "data": {
      "text/html": [
       "<div>\n",
       "<style scoped>\n",
       "    .dataframe tbody tr th:only-of-type {\n",
       "        vertical-align: middle;\n",
       "    }\n",
       "\n",
       "    .dataframe tbody tr th {\n",
       "        vertical-align: top;\n",
       "    }\n",
       "\n",
       "    .dataframe thead th {\n",
       "        text-align: right;\n",
       "    }\n",
       "</style>\n",
       "<table border=\"1\" class=\"dataframe\">\n",
       "  <thead>\n",
       "    <tr style=\"text-align: right;\">\n",
       "      <th></th>\n",
       "      <th>isbn13</th>\n",
       "      <th>isbn10</th>\n",
       "      <th>title</th>\n",
       "      <th>authors</th>\n",
       "      <th>categories</th>\n",
       "      <th>thumbnail</th>\n",
       "      <th>description</th>\n",
       "      <th>published_year</th>\n",
       "      <th>average_rating</th>\n",
       "      <th>num_pages</th>\n",
       "      <th>ratings_count</th>\n",
       "      <th>title_and_subtitle</th>\n",
       "      <th>tagged_description</th>\n",
       "      <th>simple_categories</th>\n",
       "    </tr>\n",
       "  </thead>\n",
       "  <tbody>\n",
       "    <tr>\n",
       "      <th>0</th>\n",
       "      <td>9780002005883</td>\n",
       "      <td>0002005883</td>\n",
       "      <td>Gilead</td>\n",
       "      <td>Marilynne Robinson</td>\n",
       "      <td>Fiction</td>\n",
       "      <td>http://books.google.com/books/content?id=KQZCP...</td>\n",
       "      <td>A NOVEL THAT READERS and critics have been eag...</td>\n",
       "      <td>2004.0</td>\n",
       "      <td>3.85</td>\n",
       "      <td>247.0</td>\n",
       "      <td>361.0</td>\n",
       "      <td>Gilead</td>\n",
       "      <td>9780002005883 A NOVEL THAT READERS and critics...</td>\n",
       "      <td>Fiction</td>\n",
       "    </tr>\n",
       "    <tr>\n",
       "      <th>2</th>\n",
       "      <td>9780006178736</td>\n",
       "      <td>0006178731</td>\n",
       "      <td>Rage of angels</td>\n",
       "      <td>Sidney Sheldon</td>\n",
       "      <td>Fiction</td>\n",
       "      <td>http://books.google.com/books/content?id=FKo2T...</td>\n",
       "      <td>A memorable, mesmerizing heroine Jennifer -- b...</td>\n",
       "      <td>1993.0</td>\n",
       "      <td>3.93</td>\n",
       "      <td>512.0</td>\n",
       "      <td>29532.0</td>\n",
       "      <td>Rage of angels</td>\n",
       "      <td>9780006178736 A memorable, mesmerizing heroine...</td>\n",
       "      <td>Fiction</td>\n",
       "    </tr>\n",
       "    <tr>\n",
       "      <th>8</th>\n",
       "      <td>9780006482079</td>\n",
       "      <td>0006482074</td>\n",
       "      <td>Warhost of Vastmark</td>\n",
       "      <td>Janny Wurts</td>\n",
       "      <td>Fiction</td>\n",
       "      <td>http://books.google.com/books/content?id=uOL0f...</td>\n",
       "      <td>Tricked once more by his wily half-brother, Ly...</td>\n",
       "      <td>1995.0</td>\n",
       "      <td>4.03</td>\n",
       "      <td>522.0</td>\n",
       "      <td>2966.0</td>\n",
       "      <td>Warhost of Vastmark</td>\n",
       "      <td>9780006482079 Tricked once more by his wily ha...</td>\n",
       "      <td>Fiction</td>\n",
       "    </tr>\n",
       "    <tr>\n",
       "      <th>11</th>\n",
       "      <td>9780006483908</td>\n",
       "      <td>0006483909</td>\n",
       "      <td>Jimmy the Hand</td>\n",
       "      <td>Raymond E. Feist;S. M. Stirling</td>\n",
       "      <td>Fantasy fiction</td>\n",
       "      <td>http://books.google.com/books/content?id=hV4-o...</td>\n",
       "      <td>Jimmy the Hand, boy thief of Krondor, lived in...</td>\n",
       "      <td>2003.0</td>\n",
       "      <td>3.95</td>\n",
       "      <td>368.0</td>\n",
       "      <td>5579.0</td>\n",
       "      <td>Jimmy the Hand</td>\n",
       "      <td>9780006483908 Jimmy the Hand, boy thief of Kro...</td>\n",
       "      <td>Fiction</td>\n",
       "    </tr>\n",
       "    <tr>\n",
       "      <th>15</th>\n",
       "      <td>9780006496878</td>\n",
       "      <td>0006496873</td>\n",
       "      <td>Mystical Paths</td>\n",
       "      <td>Susan Howatch</td>\n",
       "      <td>English fiction</td>\n",
       "      <td>http://books.google.com/books/content?id=by4yt...</td>\n",
       "      <td>1968 finds Nicholas Darrow wrestling with pers...</td>\n",
       "      <td>1996.0</td>\n",
       "      <td>4.23</td>\n",
       "      <td>576.0</td>\n",
       "      <td>1023.0</td>\n",
       "      <td>Mystical Paths</td>\n",
       "      <td>9780006496878 1968 finds Nicholas Darrow wrest...</td>\n",
       "      <td>Fiction</td>\n",
       "    </tr>\n",
       "    <tr>\n",
       "      <th>...</th>\n",
       "      <td>...</td>\n",
       "      <td>...</td>\n",
       "      <td>...</td>\n",
       "      <td>...</td>\n",
       "      <td>...</td>\n",
       "      <td>...</td>\n",
       "      <td>...</td>\n",
       "      <td>...</td>\n",
       "      <td>...</td>\n",
       "      <td>...</td>\n",
       "      <td>...</td>\n",
       "      <td>...</td>\n",
       "      <td>...</td>\n",
       "      <td>...</td>\n",
       "    </tr>\n",
       "    <tr>\n",
       "      <th>5686</th>\n",
       "      <td>9788171565641</td>\n",
       "      <td>8171565646</td>\n",
       "      <td>Aspects of the Novel</td>\n",
       "      <td>E. M. Forster</td>\n",
       "      <td>English fiction</td>\n",
       "      <td>http://books.google.com/books/content?id=qWU9P...</td>\n",
       "      <td>Forster's lively, informed originality and wit...</td>\n",
       "      <td>2004.0</td>\n",
       "      <td>3.83</td>\n",
       "      <td>141.0</td>\n",
       "      <td>10.0</td>\n",
       "      <td>Aspects of the Novel</td>\n",
       "      <td>9788171565641 Forster's lively, informed origi...</td>\n",
       "      <td>Fiction</td>\n",
       "    </tr>\n",
       "    <tr>\n",
       "      <th>5687</th>\n",
       "      <td>9788172235222</td>\n",
       "      <td>8172235224</td>\n",
       "      <td>Mistaken Identity</td>\n",
       "      <td>Nayantara Sahgal</td>\n",
       "      <td>Indic fiction (English)</td>\n",
       "      <td>http://books.google.com/books/content?id=q-tKP...</td>\n",
       "      <td>On A Train Journey Home To North India After L...</td>\n",
       "      <td>2003.0</td>\n",
       "      <td>2.93</td>\n",
       "      <td>324.0</td>\n",
       "      <td>0.0</td>\n",
       "      <td>Mistaken Identity</td>\n",
       "      <td>9788172235222 On A Train Journey Home To North...</td>\n",
       "      <td>Fiction</td>\n",
       "    </tr>\n",
       "    <tr>\n",
       "      <th>5690</th>\n",
       "      <td>9788185300535</td>\n",
       "      <td>8185300534</td>\n",
       "      <td>I Am that</td>\n",
       "      <td>Sri Nisargadatta Maharaj;Sudhakar S. Dikshit</td>\n",
       "      <td>Philosophy</td>\n",
       "      <td>http://books.google.com/books/content?id=Fv_JP...</td>\n",
       "      <td>This collection of the timeless teachings of o...</td>\n",
       "      <td>1999.0</td>\n",
       "      <td>4.51</td>\n",
       "      <td>531.0</td>\n",
       "      <td>104.0</td>\n",
       "      <td>I Am that: Talks with Sri Nisargadatta Maharaj</td>\n",
       "      <td>9788185300535 This collection of the timeless ...</td>\n",
       "      <td>Nonfiction</td>\n",
       "    </tr>\n",
       "    <tr>\n",
       "      <th>5691</th>\n",
       "      <td>9789027712059</td>\n",
       "      <td>9027712050</td>\n",
       "      <td>The Berlin Phenomenology</td>\n",
       "      <td>Georg Wilhelm Friedrich Hegel</td>\n",
       "      <td>History</td>\n",
       "      <td>http://books.google.com/books/content?id=Vy7Sk...</td>\n",
       "      <td>Since the three volume edition ofHegel's Philo...</td>\n",
       "      <td>1981.0</td>\n",
       "      <td>0.00</td>\n",
       "      <td>210.0</td>\n",
       "      <td>0.0</td>\n",
       "      <td>The Berlin Phenomenology</td>\n",
       "      <td>9789027712059 Since the three volume edition o...</td>\n",
       "      <td>Nonfiction</td>\n",
       "    </tr>\n",
       "    <tr>\n",
       "      <th>5692</th>\n",
       "      <td>9789042003408</td>\n",
       "      <td>9042003405</td>\n",
       "      <td>'I'm Telling You Stories'</td>\n",
       "      <td>Helena Grice;Tim Woods</td>\n",
       "      <td>Literary Criticism</td>\n",
       "      <td>http://books.google.com/books/content?id=2lVyR...</td>\n",
       "      <td>This is a jubilant and rewarding collection of...</td>\n",
       "      <td>1998.0</td>\n",
       "      <td>3.70</td>\n",
       "      <td>136.0</td>\n",
       "      <td>10.0</td>\n",
       "      <td>'I'm Telling You Stories': Jeanette Winterson ...</td>\n",
       "      <td>9789042003408 This is a jubilant and rewarding...</td>\n",
       "      <td>Nonfiction</td>\n",
       "    </tr>\n",
       "  </tbody>\n",
       "</table>\n",
       "<p>4213 rows × 14 columns</p>\n",
       "</div>"
      ],
      "text/plain": [
       "             isbn13      isbn10                      title  \\\n",
       "0     9780002005883  0002005883                     Gilead   \n",
       "2     9780006178736  0006178731             Rage of angels   \n",
       "8     9780006482079  0006482074        Warhost of Vastmark   \n",
       "11    9780006483908  0006483909             Jimmy the Hand   \n",
       "15    9780006496878  0006496873             Mystical Paths   \n",
       "...             ...         ...                        ...   \n",
       "5686  9788171565641  8171565646       Aspects of the Novel   \n",
       "5687  9788172235222  8172235224          Mistaken Identity   \n",
       "5690  9788185300535  8185300534                  I Am that   \n",
       "5691  9789027712059  9027712050   The Berlin Phenomenology   \n",
       "5692  9789042003408  9042003405  'I'm Telling You Stories'   \n",
       "\n",
       "                                           authors               categories  \\\n",
       "0                               Marilynne Robinson                  Fiction   \n",
       "2                                   Sidney Sheldon                  Fiction   \n",
       "8                                      Janny Wurts                  Fiction   \n",
       "11                 Raymond E. Feist;S. M. Stirling          Fantasy fiction   \n",
       "15                                   Susan Howatch          English fiction   \n",
       "...                                            ...                      ...   \n",
       "5686                                 E. M. Forster          English fiction   \n",
       "5687                              Nayantara Sahgal  Indic fiction (English)   \n",
       "5690  Sri Nisargadatta Maharaj;Sudhakar S. Dikshit               Philosophy   \n",
       "5691                 Georg Wilhelm Friedrich Hegel                  History   \n",
       "5692                        Helena Grice;Tim Woods       Literary Criticism   \n",
       "\n",
       "                                              thumbnail  \\\n",
       "0     http://books.google.com/books/content?id=KQZCP...   \n",
       "2     http://books.google.com/books/content?id=FKo2T...   \n",
       "8     http://books.google.com/books/content?id=uOL0f...   \n",
       "11    http://books.google.com/books/content?id=hV4-o...   \n",
       "15    http://books.google.com/books/content?id=by4yt...   \n",
       "...                                                 ...   \n",
       "5686  http://books.google.com/books/content?id=qWU9P...   \n",
       "5687  http://books.google.com/books/content?id=q-tKP...   \n",
       "5690  http://books.google.com/books/content?id=Fv_JP...   \n",
       "5691  http://books.google.com/books/content?id=Vy7Sk...   \n",
       "5692  http://books.google.com/books/content?id=2lVyR...   \n",
       "\n",
       "                                            description  published_year  \\\n",
       "0     A NOVEL THAT READERS and critics have been eag...          2004.0   \n",
       "2     A memorable, mesmerizing heroine Jennifer -- b...          1993.0   \n",
       "8     Tricked once more by his wily half-brother, Ly...          1995.0   \n",
       "11    Jimmy the Hand, boy thief of Krondor, lived in...          2003.0   \n",
       "15    1968 finds Nicholas Darrow wrestling with pers...          1996.0   \n",
       "...                                                 ...             ...   \n",
       "5686  Forster's lively, informed originality and wit...          2004.0   \n",
       "5687  On A Train Journey Home To North India After L...          2003.0   \n",
       "5690  This collection of the timeless teachings of o...          1999.0   \n",
       "5691  Since the three volume edition ofHegel's Philo...          1981.0   \n",
       "5692  This is a jubilant and rewarding collection of...          1998.0   \n",
       "\n",
       "      average_rating  num_pages  ratings_count  \\\n",
       "0               3.85      247.0          361.0   \n",
       "2               3.93      512.0        29532.0   \n",
       "8               4.03      522.0         2966.0   \n",
       "11              3.95      368.0         5579.0   \n",
       "15              4.23      576.0         1023.0   \n",
       "...              ...        ...            ...   \n",
       "5686            3.83      141.0           10.0   \n",
       "5687            2.93      324.0            0.0   \n",
       "5690            4.51      531.0          104.0   \n",
       "5691            0.00      210.0            0.0   \n",
       "5692            3.70      136.0           10.0   \n",
       "\n",
       "                                     title_and_subtitle  \\\n",
       "0                                                Gilead   \n",
       "2                                        Rage of angels   \n",
       "8                                   Warhost of Vastmark   \n",
       "11                                       Jimmy the Hand   \n",
       "15                                       Mystical Paths   \n",
       "...                                                 ...   \n",
       "5686                               Aspects of the Novel   \n",
       "5687                                  Mistaken Identity   \n",
       "5690     I Am that: Talks with Sri Nisargadatta Maharaj   \n",
       "5691                           The Berlin Phenomenology   \n",
       "5692  'I'm Telling You Stories': Jeanette Winterson ...   \n",
       "\n",
       "                                     tagged_description simple_categories  \n",
       "0     9780002005883 A NOVEL THAT READERS and critics...           Fiction  \n",
       "2     9780006178736 A memorable, mesmerizing heroine...           Fiction  \n",
       "8     9780006482079 Tricked once more by his wily ha...           Fiction  \n",
       "11    9780006483908 Jimmy the Hand, boy thief of Kro...           Fiction  \n",
       "15    9780006496878 1968 finds Nicholas Darrow wrest...           Fiction  \n",
       "...                                                 ...               ...  \n",
       "5686  9788171565641 Forster's lively, informed origi...           Fiction  \n",
       "5687  9788172235222 On A Train Journey Home To North...           Fiction  \n",
       "5690  9788185300535 This collection of the timeless ...        Nonfiction  \n",
       "5691  9789027712059 Since the three volume edition o...        Nonfiction  \n",
       "5692  9789042003408 This is a jubilant and rewarding...        Nonfiction  \n",
       "\n",
       "[4213 rows x 14 columns]"
      ]
     },
     "execution_count": 14,
     "metadata": {},
     "output_type": "execute_result"
    }
   ],
   "source": [
    "books[~(books[\"simple_categories\"].isna())]"
   ]
  },
  {
   "cell_type": "markdown",
   "id": "62a9ed7b-fe96-43d3-bee2-05e1d35fea7d",
   "metadata": {},
   "source": [
    "There were `4213` books labeled as either `Fiction` or `Nonfiction` out of a total of `5693` recorded books."
   ]
  },
  {
   "cell_type": "markdown",
   "id": "d7e54cb6-b8de-4ee1-aa53-ca3cc20cdfd2",
   "metadata": {},
   "source": [
    "### Zero-Shot Classifier Model\n",
    "\n",
    "Huggingface zero-shot classifier pre-trained model will be used to classify book as either `Fictional` or `Nonfictional`."
   ]
  },
  {
   "cell_type": "code",
   "execution_count": 16,
   "id": "09b0dedb-d766-439c-8f16-37fd80c33cef",
   "metadata": {},
   "outputs": [
    {
     "name": "stderr",
     "output_type": "stream",
     "text": [
      "C:\\Users\\DELL\\Desktop\\New-Era-Projects\\Movie-Recommendation-System\\.venv\\Lib\\site-packages\\huggingface_hub\\file_download.py:143: UserWarning: `huggingface_hub` cache-system uses symlinks by default to efficiently store duplicated files but your machine does not support them in C:\\Users\\DELL\\.cache\\huggingface\\hub\\models--facebook--bart-large-mnli. Caching files will still work but in a degraded version that might require more space on your disk. This warning can be disabled by setting the `HF_HUB_DISABLE_SYMLINKS_WARNING` environment variable. For more details, see https://huggingface.co/docs/huggingface_hub/how-to-cache#limitations.\n",
      "To support symlinks on Windows, you either need to activate Developer Mode or to run Python as an administrator. In order to activate developer mode, see this article: https://docs.microsoft.com/en-us/windows/apps/get-started/enable-your-device-for-development\n",
      "  warnings.warn(message)\n",
      "Device set to use cpu\n"
     ]
    }
   ],
   "source": [
    "# the 2 categories we want to use in our model:\n",
    "fiction_categories = [\"Fiction\", \"Nonfiction\"]\n",
    "\n",
    "pipe = pipeline(\"zero-shot-classification\",\n",
    "                model=\"facebook/bart-large-mnli\",\n",
    "                device=\"cpu\")"
   ]
  },
  {
   "cell_type": "markdown",
   "id": "17a35a72-372d-4a9f-8496-effd8bdbfcc2",
   "metadata": {},
   "source": [
    "#### Classification Inference"
   ]
  },
  {
   "cell_type": "code",
   "execution_count": 20,
   "id": "1701c23e-dc7f-44f3-9b96-eb58f5213aa4",
   "metadata": {},
   "outputs": [
    {
     "data": {
      "text/plain": [
       "'A NOVEL THAT READERS and critics have been eagerly anticipating for over a decade, Gilead is an astonishingly imagined story of remarkable lives. John Ames is a preacher, the son of a preacher and the grandson (both maternal and paternal) of preachers. It’s 1956 in Gilead, Iowa, towards the end of the Reverend Ames’s life, and he is absorbed in recording his family’s story, a legacy for the young son he will never see grow up. Haunted by his grandfather’s presence, John tells of the rift between his grandfather and his father: the elder, an angry visionary who fought for the abolitionist cause, and his son, an ardent pacifist. He is troubled, too, by his prodigal namesake, Jack (John Ames) Boughton, his best friend’s lost son who returns to Gilead searching for forgiveness and redemption. Told in John Ames’s joyous, rambling voice that finds beauty, humour and truth in the smallest of life’s details, Gilead is a song of celebration and acceptance of the best and the worst the world has to offer. At its heart is a tale of the sacred bonds between fathers and sons, pitch-perfect in style and story, set to dazzle critics and readers alike.'"
      ]
     },
     "execution_count": 20,
     "metadata": {},
     "output_type": "execute_result"
    }
   ],
   "source": [
    "# the descrioction of the first fictional book\n",
    "sequence = books.loc[books[\"simple_categories\"] == \"Fiction\", \"description\"].reset_index(drop=True)[0]\n",
    "sequence"
   ]
  },
  {
   "cell_type": "markdown",
   "id": "30912a7f-3605-4a1a-b894-a859c80ea49e",
   "metadata": {},
   "source": [
    "**Predict the probability of the book description above of being fictional or nonfictiona**"
   ]
  },
  {
   "cell_type": "code",
   "execution_count": 22,
   "id": "d0a44adb-8043-4401-b9a4-d58e781415d2",
   "metadata": {},
   "outputs": [
    {
     "data": {
      "text/plain": [
       "{'sequence': 'A NOVEL THAT READERS and critics have been eagerly anticipating for over a decade, Gilead is an astonishingly imagined story of remarkable lives. John Ames is a preacher, the son of a preacher and the grandson (both maternal and paternal) of preachers. It’s 1956 in Gilead, Iowa, towards the end of the Reverend Ames’s life, and he is absorbed in recording his family’s story, a legacy for the young son he will never see grow up. Haunted by his grandfather’s presence, John tells of the rift between his grandfather and his father: the elder, an angry visionary who fought for the abolitionist cause, and his son, an ardent pacifist. He is troubled, too, by his prodigal namesake, Jack (John Ames) Boughton, his best friend’s lost son who returns to Gilead searching for forgiveness and redemption. Told in John Ames’s joyous, rambling voice that finds beauty, humour and truth in the smallest of life’s details, Gilead is a song of celebration and acceptance of the best and the worst the world has to offer. At its heart is a tale of the sacred bonds between fathers and sons, pitch-perfect in style and story, set to dazzle critics and readers alike.',\n",
       " 'labels': ['Fiction', 'Nonfiction'],\n",
       " 'scores': [0.8438267111778259, 0.15617331862449646]}"
      ]
     },
     "execution_count": 22,
     "metadata": {},
     "output_type": "execute_result"
    }
   ],
   "source": [
    "inference = pipe(sequence, fiction_categories)\n",
    "inference"
   ]
  },
  {
   "cell_type": "code",
   "execution_count": 25,
   "id": "2aa9f818-69ab-4b2c-8f32-db02fb37e90d",
   "metadata": {},
   "outputs": [
    {
     "data": {
      "text/plain": [
       "'Fiction'"
      ]
     },
     "execution_count": 25,
     "metadata": {},
     "output_type": "execute_result"
    }
   ],
   "source": [
    "# obtain the label of the score with highest probability\n",
    "max_index = np.argmax(inference[\"scores\"])\n",
    "max_label = inference[\"labels\"][max_index]\n",
    "max_label"
   ]
  },
  {
   "cell_type": "code",
   "execution_count": 30,
   "id": "ba79d942-1585-4032-bee5-533550536a67",
   "metadata": {},
   "outputs": [],
   "source": [
    "def predict_category(sequence: str, categories: list) -> str:\n",
    "    \"\"\"\"\n",
    "    Predicts if a sequence belong to any categories specified in categories.\n",
    "    \"\"\"\n",
    "    predictions = pipe(sequence, categories)\n",
    "    max_index = np.argmax(predictions[\"scores\"])\n",
    "    max_label = predictions[\"labels\"][max_index]\n",
    "    return max_label"
   ]
  },
  {
   "cell_type": "markdown",
   "id": "74dcd4a8-c7fb-408d-acb2-236fac39302d",
   "metadata": {},
   "source": [
    "### Evaluating the Classification\n",
    "\n",
    "\n",
    "#### Predicting Fictional and Nonfictional Books\n",
    "How well does the model predicts fictional books (first 300 fictional books)?"
   ]
  },
  {
   "cell_type": "code",
   "execution_count": 31,
   "id": "34b4d72f-3928-4bc7-8b85-be62db122dbb",
   "metadata": {},
   "outputs": [
    {
     "name": "stderr",
     "output_type": "stream",
     "text": [
      "100%|████████████████████████████████████████████████████████████████████████████████████████████████████████████████████| 300/300 [20:20<00:00,  4.07s/it]\n"
     ]
    }
   ],
   "source": [
    "actual_cats = []\n",
    "predicted_cats = []\n",
    "\n",
    "fiction_books = books.loc[books[\"simple_categories\"] == \"Fiction\", \"description\"].reset_index(drop=True)\n",
    "\n",
    "for i in tqdm(range(min(300, len(fiction_books)))):\n",
    "    sequence = fiction_books[i]\n",
    "    predicted_cats.append(predict_category(sequence, fiction_categories))\n",
    "    actual_cats.append(\"Fiction\")"
   ]
  },
  {
   "cell_type": "markdown",
   "id": "8370cdd3-f7b0-4050-aa6a-4207be4bbb45",
   "metadata": {},
   "source": [
    "How well does the model predicts nonfictional books (first 100 nonfictional books?"
   ]
  },
  {
   "cell_type": "code",
   "execution_count": 36,
   "id": "e512584e-3642-4e77-844b-28ea87279629",
   "metadata": {},
   "outputs": [
    {
     "name": "stderr",
     "output_type": "stream",
     "text": [
      "100%|████████████████████████████████████████████████████████████████████████████████████████████████████████████████████| 100/100 [08:10<00:00,  4.91s/it]\n"
     ]
    }
   ],
   "source": [
    "nonfiction_books = books.loc[books[\"simple_categories\"] == \"Nonfiction\", \"description\"].reset_index(drop=True)\n",
    "\n",
    "for i in tqdm(range(min(100, len(nonfiction_books)))):\n",
    "    sequence = nonfiction_books[i]\n",
    "    predicted_cats.append(predict_category(sequence, fiction_categories))\n",
    "    actual_cats.append(\"Nonfiction\")"
   ]
  },
  {
   "cell_type": "code",
   "execution_count": 37,
   "id": "68070f2d-1c33-4f48-8b08-ca4f81bd9cd0",
   "metadata": {},
   "outputs": [
    {
     "data": {
      "text/html": [
       "<div>\n",
       "<style scoped>\n",
       "    .dataframe tbody tr th:only-of-type {\n",
       "        vertical-align: middle;\n",
       "    }\n",
       "\n",
       "    .dataframe tbody tr th {\n",
       "        vertical-align: top;\n",
       "    }\n",
       "\n",
       "    .dataframe thead th {\n",
       "        text-align: right;\n",
       "    }\n",
       "</style>\n",
       "<table border=\"1\" class=\"dataframe\">\n",
       "  <thead>\n",
       "    <tr style=\"text-align: right;\">\n",
       "      <th></th>\n",
       "      <th>actual_categories</th>\n",
       "      <th>predicted_categories</th>\n",
       "    </tr>\n",
       "  </thead>\n",
       "  <tbody>\n",
       "    <tr>\n",
       "      <th>398</th>\n",
       "      <td>Nonfiction</td>\n",
       "      <td>Nonfiction</td>\n",
       "    </tr>\n",
       "    <tr>\n",
       "      <th>399</th>\n",
       "      <td>Nonfiction</td>\n",
       "      <td>Nonfiction</td>\n",
       "    </tr>\n",
       "    <tr>\n",
       "      <th>400</th>\n",
       "      <td>Nonfiction</td>\n",
       "      <td>Nonfiction</td>\n",
       "    </tr>\n",
       "    <tr>\n",
       "      <th>401</th>\n",
       "      <td>Nonfiction</td>\n",
       "      <td>Nonfiction</td>\n",
       "    </tr>\n",
       "    <tr>\n",
       "      <th>402</th>\n",
       "      <td>Nonfiction</td>\n",
       "      <td>Nonfiction</td>\n",
       "    </tr>\n",
       "  </tbody>\n",
       "</table>\n",
       "</div>"
      ],
      "text/plain": [
       "    actual_categories predicted_categories\n",
       "398        Nonfiction           Nonfiction\n",
       "399        Nonfiction           Nonfiction\n",
       "400        Nonfiction           Nonfiction\n",
       "401        Nonfiction           Nonfiction\n",
       "402        Nonfiction           Nonfiction"
      ]
     },
     "execution_count": 37,
     "metadata": {},
     "output_type": "execute_result"
    }
   ],
   "source": [
    "predictions_df = pd.DataFrame({\"actual_categories\": actual_cats, \"predicted_categories\": predicted_cats})\n",
    "predictions_df.tail()"
   ]
  },
  {
   "cell_type": "code",
   "execution_count": 38,
   "id": "e7777892-4e46-447a-9613-d02ca5847968",
   "metadata": {},
   "outputs": [],
   "source": [
    "predictions_df[\"correct_prediction\"] = (\n",
    "    np.where(predictions_df[\"actual_categories\"] == predictions_df[\"predicted_categories\"], 1, 0)\n",
    ")"
   ]
  },
  {
   "cell_type": "code",
   "execution_count": 39,
   "id": "d4d2a89a-e591-403c-9795-aff78907c46f",
   "metadata": {},
   "outputs": [
    {
     "data": {
      "text/plain": [
       "np.float64(0.6923076923076923)"
      ]
     },
     "execution_count": 39,
     "metadata": {},
     "output_type": "execute_result"
    }
   ],
   "source": [
    "# accuracy score\n",
    "predictions_df[\"correct_prediction\"].sum() / len(predictions_df)"
   ]
  },
  {
   "cell_type": "markdown",
   "id": "2686944a-0174-43cb-bcf1-46236c87de4e",
   "metadata": {},
   "source": [
    "#### Predicting books with missing categories\n",
    "\n",
    "Books with unknown categories:"
   ]
  },
  {
   "cell_type": "code",
   "execution_count": 56,
   "id": "60f7276c-3b6e-4613-8d66-b00c4617c64b",
   "metadata": {},
   "outputs": [
    {
     "name": "stdout",
     "output_type": "stream",
     "text": [
      "Total number of books with unknown categories: 1480\n"
     ]
    }
   ],
   "source": [
    "missing_cats = books.loc[books[\"simple_categories\"].isna(), [\"isbn13\", \"description\"]].reset_index(drop=True) \n",
    "print(f\"Total number of books with unknown categories: {missing_cats.shape[0]}\")"
   ]
  },
  {
   "cell_type": "markdown",
   "id": "e3b2071f-aae2-449e-a2ca-adf9990a1519",
   "metadata": {},
   "source": [
    "Predict if any of the books with unknown category as either `Fiction` or `Nonfiction`"
   ]
  },
  {
   "cell_type": "code",
   "execution_count": 57,
   "id": "de299a31-324f-47a0-9f44-947286d2d584",
   "metadata": {},
   "outputs": [
    {
     "name": "stderr",
     "output_type": "stream",
     "text": [
      "100%|████████████████████████████████████████████████████████████████████████████████████████████████████████████████| 1480/1480 [1:24:04<00:00,  3.41s/it]\n"
     ]
    }
   ],
   "source": [
    "isbns = []\n",
    "predicted_cats = []\n",
    "\n",
    "for i in tqdm(range(0, len(missing_cats))):\n",
    "    sequence = missing_cats[\"description\"][i]\n",
    "    predicted_cats.append(predict_category(sequence, fiction_categories))\n",
    "    isbns.append(missing_cats[\"isbn13\"][i])"
   ]
  },
  {
   "cell_type": "code",
   "execution_count": 59,
   "id": "dab5f0c5-b95d-4c43-9ac2-d87b663c7677",
   "metadata": {},
   "outputs": [
    {
     "data": {
      "text/html": [
       "<div>\n",
       "<style scoped>\n",
       "    .dataframe tbody tr th:only-of-type {\n",
       "        vertical-align: middle;\n",
       "    }\n",
       "\n",
       "    .dataframe tbody tr th {\n",
       "        vertical-align: top;\n",
       "    }\n",
       "\n",
       "    .dataframe thead th {\n",
       "        text-align: right;\n",
       "    }\n",
       "</style>\n",
       "<table border=\"1\" class=\"dataframe\">\n",
       "  <thead>\n",
       "    <tr style=\"text-align: right;\">\n",
       "      <th></th>\n",
       "      <th>isbn13</th>\n",
       "      <th>predicted_categories</th>\n",
       "    </tr>\n",
       "  </thead>\n",
       "  <tbody>\n",
       "    <tr>\n",
       "      <th>0</th>\n",
       "      <td>9780002261982</td>\n",
       "      <td>Fiction</td>\n",
       "    </tr>\n",
       "    <tr>\n",
       "      <th>1</th>\n",
       "      <td>9780006280897</td>\n",
       "      <td>Nonfiction</td>\n",
       "    </tr>\n",
       "    <tr>\n",
       "      <th>2</th>\n",
       "      <td>9780006280934</td>\n",
       "      <td>Nonfiction</td>\n",
       "    </tr>\n",
       "    <tr>\n",
       "      <th>3</th>\n",
       "      <td>9780006380832</td>\n",
       "      <td>Nonfiction</td>\n",
       "    </tr>\n",
       "    <tr>\n",
       "      <th>4</th>\n",
       "      <td>9780006470229</td>\n",
       "      <td>Fiction</td>\n",
       "    </tr>\n",
       "  </tbody>\n",
       "</table>\n",
       "</div>"
      ],
      "text/plain": [
       "          isbn13 predicted_categories\n",
       "0  9780002261982              Fiction\n",
       "1  9780006280897           Nonfiction\n",
       "2  9780006280934           Nonfiction\n",
       "3  9780006380832           Nonfiction\n",
       "4  9780006470229              Fiction"
      ]
     },
     "execution_count": 59,
     "metadata": {},
     "output_type": "execute_result"
    }
   ],
   "source": [
    "missing_predicted_df = pd.DataFrame({\"isbn13\": isbns, \"predicted_categories\": predicted_cats})\n",
    "missing_predicted_df.head()"
   ]
  },
  {
   "cell_type": "markdown",
   "id": "c2156e7f-70cb-4628-82dc-03a9f9568d56",
   "metadata": {},
   "source": [
    "> Merge the `missing_predicted_df` dataframe `predicted_categories` column to the `books` dataframe `simple_categories` column based on similar `isbn13` column."
   ]
  },
  {
   "cell_type": "code",
   "execution_count": 71,
   "id": "1e6d82a0-91bf-46a3-bfe2-4658047853fd",
   "metadata": {},
   "outputs": [],
   "source": [
    "# updated books dataframe:\n",
    "books = pd.merge(books, missing_predicted_df, on=\"isbn13\", how=\"left\")"
   ]
  },
  {
   "cell_type": "code",
   "execution_count": 72,
   "id": "a1f7aa39-54c9-4f75-8111-f076a5cdc5f5",
   "metadata": {},
   "outputs": [],
   "source": [
    "books[\"simple_categories\"] = np.where(books[\"simple_categories\"].isna(), books[\"predicted_categories\"], books[\"simple_categories\"])\n",
    "\n",
    "# remove the predicted_categories\n",
    "books.drop(columns = [\"predicted_categories\"], inplace=True)"
   ]
  },
  {
   "cell_type": "code",
   "execution_count": 74,
   "id": "481e30a2-a336-4b47-a2bf-efb6b2494d94",
   "metadata": {},
   "outputs": [
    {
     "data": {
      "text/html": [
       "<div>\n",
       "<style scoped>\n",
       "    .dataframe tbody tr th:only-of-type {\n",
       "        vertical-align: middle;\n",
       "    }\n",
       "\n",
       "    .dataframe tbody tr th {\n",
       "        vertical-align: top;\n",
       "    }\n",
       "\n",
       "    .dataframe thead th {\n",
       "        text-align: right;\n",
       "    }\n",
       "</style>\n",
       "<table border=\"1\" class=\"dataframe\">\n",
       "  <thead>\n",
       "    <tr style=\"text-align: right;\">\n",
       "      <th></th>\n",
       "      <th>isbn13</th>\n",
       "      <th>isbn10</th>\n",
       "      <th>title</th>\n",
       "      <th>authors</th>\n",
       "      <th>categories</th>\n",
       "      <th>thumbnail</th>\n",
       "      <th>description</th>\n",
       "      <th>published_year</th>\n",
       "      <th>average_rating</th>\n",
       "      <th>num_pages</th>\n",
       "      <th>ratings_count</th>\n",
       "      <th>title_and_subtitle</th>\n",
       "      <th>tagged_description</th>\n",
       "      <th>simple_categories</th>\n",
       "    </tr>\n",
       "  </thead>\n",
       "  <tbody>\n",
       "    <tr>\n",
       "      <th>0</th>\n",
       "      <td>9780002005883</td>\n",
       "      <td>0002005883</td>\n",
       "      <td>Gilead</td>\n",
       "      <td>Marilynne Robinson</td>\n",
       "      <td>Fiction</td>\n",
       "      <td>http://books.google.com/books/content?id=KQZCP...</td>\n",
       "      <td>A NOVEL THAT READERS and critics have been eag...</td>\n",
       "      <td>2004.0</td>\n",
       "      <td>3.85</td>\n",
       "      <td>247.0</td>\n",
       "      <td>361.0</td>\n",
       "      <td>Gilead</td>\n",
       "      <td>9780002005883 A NOVEL THAT READERS and critics...</td>\n",
       "      <td>Fiction</td>\n",
       "    </tr>\n",
       "    <tr>\n",
       "      <th>1</th>\n",
       "      <td>9780002261982</td>\n",
       "      <td>0002261987</td>\n",
       "      <td>Spider's Web</td>\n",
       "      <td>Charles Osborne;Agatha Christie</td>\n",
       "      <td>Detective and mystery stories</td>\n",
       "      <td>http://books.google.com/books/content?id=gA5GP...</td>\n",
       "      <td>A new 'Christie for Christmas' -- a full-lengt...</td>\n",
       "      <td>2000.0</td>\n",
       "      <td>3.83</td>\n",
       "      <td>241.0</td>\n",
       "      <td>5164.0</td>\n",
       "      <td>Spider's Web: A Novel</td>\n",
       "      <td>9780002261982 A new 'Christie for Christmas' -...</td>\n",
       "      <td>Fiction</td>\n",
       "    </tr>\n",
       "    <tr>\n",
       "      <th>2</th>\n",
       "      <td>9780006178736</td>\n",
       "      <td>0006178731</td>\n",
       "      <td>Rage of angels</td>\n",
       "      <td>Sidney Sheldon</td>\n",
       "      <td>Fiction</td>\n",
       "      <td>http://books.google.com/books/content?id=FKo2T...</td>\n",
       "      <td>A memorable, mesmerizing heroine Jennifer -- b...</td>\n",
       "      <td>1993.0</td>\n",
       "      <td>3.93</td>\n",
       "      <td>512.0</td>\n",
       "      <td>29532.0</td>\n",
       "      <td>Rage of angels</td>\n",
       "      <td>9780006178736 A memorable, mesmerizing heroine...</td>\n",
       "      <td>Fiction</td>\n",
       "    </tr>\n",
       "  </tbody>\n",
       "</table>\n",
       "</div>"
      ],
      "text/plain": [
       "          isbn13      isbn10           title                          authors  \\\n",
       "0  9780002005883  0002005883          Gilead               Marilynne Robinson   \n",
       "1  9780002261982  0002261987    Spider's Web  Charles Osborne;Agatha Christie   \n",
       "2  9780006178736  0006178731  Rage of angels                   Sidney Sheldon   \n",
       "\n",
       "                      categories  \\\n",
       "0                        Fiction   \n",
       "1  Detective and mystery stories   \n",
       "2                        Fiction   \n",
       "\n",
       "                                           thumbnail  \\\n",
       "0  http://books.google.com/books/content?id=KQZCP...   \n",
       "1  http://books.google.com/books/content?id=gA5GP...   \n",
       "2  http://books.google.com/books/content?id=FKo2T...   \n",
       "\n",
       "                                         description  published_year  \\\n",
       "0  A NOVEL THAT READERS and critics have been eag...          2004.0   \n",
       "1  A new 'Christie for Christmas' -- a full-lengt...          2000.0   \n",
       "2  A memorable, mesmerizing heroine Jennifer -- b...          1993.0   \n",
       "\n",
       "   average_rating  num_pages  ratings_count     title_and_subtitle  \\\n",
       "0            3.85      247.0          361.0                 Gilead   \n",
       "1            3.83      241.0         5164.0  Spider's Web: A Novel   \n",
       "2            3.93      512.0        29532.0         Rage of angels   \n",
       "\n",
       "                                  tagged_description simple_categories  \n",
       "0  9780002005883 A NOVEL THAT READERS and critics...           Fiction  \n",
       "1  9780002261982 A new 'Christie for Christmas' -...           Fiction  \n",
       "2  9780006178736 A memorable, mesmerizing heroine...           Fiction  "
      ]
     },
     "execution_count": 74,
     "metadata": {},
     "output_type": "execute_result"
    }
   ],
   "source": [
    "books.head(3)"
   ]
  },
  {
   "cell_type": "markdown",
   "id": "b501b28e-7f85-4aec-9a9e-5ddc9ce5a434",
   "metadata": {},
   "source": [
    "### Save the Newly Created Dataframe\n",
    "\n",
    "Now the I have labeled all books to belong to either `Fiction` and `Nonfiction` category, I would save the new dataframe as csv to avoid making inference in labeling the books in the dataset again:"
   ]
  },
  {
   "cell_type": "code",
   "execution_count": 75,
   "id": "44a2e3b2-97d6-4b3e-9233-27ff064a3cab",
   "metadata": {},
   "outputs": [],
   "source": [
    "books.to_csv(\"data/books_with_categories.csv\", index=False)"
   ]
  }
 ],
 "metadata": {
  "kernelspec": {
   "display_name": "Python (recommender-venv)",
   "language": "python",
   "name": ".venv"
  },
  "language_info": {
   "codemirror_mode": {
    "name": "ipython",
    "version": 3
   },
   "file_extension": ".py",
   "mimetype": "text/x-python",
   "name": "python",
   "nbconvert_exporter": "python",
   "pygments_lexer": "ipython3",
   "version": "3.11.0"
  }
 },
 "nbformat": 4,
 "nbformat_minor": 5
}
