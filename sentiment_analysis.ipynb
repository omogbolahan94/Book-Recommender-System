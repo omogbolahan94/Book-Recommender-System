{
 "cells": [
  {
   "cell_type": "markdown",
   "id": "71d274e2-9e1e-4beb-beb7-501d382a0324",
   "metadata": {},
   "source": [
    "### Introduction\n",
    "\n",
    "Using a fine-tuning method, I would analyze books based on their descriptions to classify their emotions as one of the following: Sadness, Joy, Anger, Surprise, Fear, Disgust, or Neutral.\n",
    "\n",
    "Instead of fine-tuning from scratch, I would use open source model from hugging face that has already been trained on emotion data.\n",
    "\n",
    "The evaluation of the model is found on [dataloop](https://dataloop.ai/library/model/dennisjooo_emotion_classification/#:~:text=The%20model%20was%20trained%20on,better%20on%20this%20specific%20task.)."
   ]
  },
  {
   "cell_type": "code",
   "execution_count": 71,
   "id": "4ca3d5cd-03ad-42c9-89b8-372a6789a7e3",
   "metadata": {},
   "outputs": [],
   "source": [
    "import numpy as np\n",
    "import pandas as pd\n",
    "\n",
    "from transformers import pipeline\n",
    "\n",
    "from tqdm import tqdm"
   ]
  },
  {
   "cell_type": "markdown",
   "id": "f3fbd8b6-6779-452e-8c24-aa3880425107",
   "metadata": {},
   "source": [
    "### Load the Dataset"
   ]
  },
  {
   "cell_type": "code",
   "execution_count": 72,
   "id": "7b8cbf61-91fc-4dc9-8b25-5fb3c8d7dbab",
   "metadata": {},
   "outputs": [],
   "source": [
    "books = pd.read_csv(\"books_with_categories.csv\")"
   ]
  },
  {
   "cell_type": "markdown",
   "id": "53748423-fde1-41a8-aa1c-f3b7f473625d",
   "metadata": {},
   "source": [
    "### Fine-Tuned Sentiment Classifier Model"
   ]
  },
  {
   "cell_type": "code",
   "execution_count": 73,
   "id": "ff1d160e-9c57-401b-9486-7eb9b4237c60",
   "metadata": {},
   "outputs": [
    {
     "name": "stderr",
     "output_type": "stream",
     "text": [
      "Device set to use cpu\n"
     ]
    }
   ],
   "source": [
    "classifier = pipeline(\"text-classification\",\n",
    "                      model=\"j-hartmann/emotion-english-distilroberta-base\",\n",
    "                      top_k = None,\n",
    "                      device = \"cpu\")"
   ]
  },
  {
   "cell_type": "code",
   "execution_count": 74,
   "id": "397e21ed-e1e6-494d-90cf-498e302dad54",
   "metadata": {},
   "outputs": [
    {
     "data": {
      "text/plain": [
       "[[{'label': 'joy', 'score': 0.9771687984466553},\n",
       "  {'label': 'surprise', 'score': 0.008528684265911579},\n",
       "  {'label': 'neutral', 'score': 0.005764586851000786},\n",
       "  {'label': 'anger', 'score': 0.004419783595949411},\n",
       "  {'label': 'sadness', 'score': 0.002092392183840275},\n",
       "  {'label': 'disgust', 'score': 0.0016119900392368436},\n",
       "  {'label': 'fear', 'score': 0.0004138521908316761}]]"
      ]
     },
     "execution_count": 74,
     "metadata": {},
     "output_type": "execute_result"
    }
   ],
   "source": [
    "# example inference\n",
    "classifier(\"I love this!\")"
   ]
  },
  {
   "cell_type": "markdown",
   "id": "c2843d67-edcf-41c2-85ae-c0d56f864317",
   "metadata": {},
   "source": [
    "#### Inference on Books Description"
   ]
  },
  {
   "cell_type": "code",
   "execution_count": 75,
   "id": "c8b1f537-27de-49b4-b019-8b4b5432af47",
   "metadata": {},
   "outputs": [
    {
     "name": "stdout",
     "output_type": "stream",
     "text": [
      "A NOVEL THAT READERS and critics have been eagerly anticipating for over a decade, Gilead is an astonishingly imagined story of remarkable lives. John Ames is a preacher, the son of a preacher and the grandson (both maternal and paternal) of preachers. It’s 1956 in Gilead, Iowa, towards the end of the Reverend Ames’s life, and he is absorbed in recording his family’s story, a legacy for the young son he will never see grow up. Haunted by his grandfather’s presence, John tells of the rift between his grandfather and his father: the elder, an angry visionary who fought for the abolitionist cause, and his son, an ardent pacifist. He is troubled, too, by his prodigal namesake, Jack (John Ames) Boughton, his best friend’s lost son who returns to Gilead searching for forgiveness and redemption. Told in John Ames’s joyous, rambling voice that finds beauty, humour and truth in the smallest of life’s details, Gilead is a song of celebration and acceptance of the best and the worst the world has to offer. At its heart is a tale of the sacred bonds between fathers and sons, pitch-perfect in style and story, set to dazzle critics and readers alike.\n"
     ]
    },
    {
     "data": {
      "text/plain": [
       "[[{'label': 'fear', 'score': 0.6548399925231934},\n",
       "  {'label': 'neutral', 'score': 0.1698525995016098},\n",
       "  {'label': 'sadness', 'score': 0.11640939861536026},\n",
       "  {'label': 'surprise', 'score': 0.02070068009197712},\n",
       "  {'label': 'disgust', 'score': 0.019100721925497055},\n",
       "  {'label': 'joy', 'score': 0.015161462128162384},\n",
       "  {'label': 'anger', 'score': 0.003935154061764479}]]"
      ]
     },
     "execution_count": 75,
     "metadata": {},
     "output_type": "execute_result"
    }
   ],
   "source": [
    "print(books.description[0])\n",
    "classifier(books.description[0])"
   ]
  },
  {
   "cell_type": "markdown",
   "id": "827d2f00-0510-44c3-870a-49f0db15e8c7",
   "metadata": {},
   "source": [
    "The model predicted the description as showing an emotion of fear, but upon reading it, there is also a sentiment of joy. Since the model can predict the sentiment of individual sentences, I would analyze each sentence in the description and then predict its sentiment separately:"
   ]
  },
  {
   "cell_type": "code",
   "execution_count": 76,
   "id": "bff36d62-5e1b-4145-8aeb-29d3f0ea300f",
   "metadata": {},
   "outputs": [
    {
     "name": "stdout",
     "output_type": "stream",
     "text": [
      "A NOVEL THAT READERS and critics have been eagerly anticipating for over a decade, Gilead is an astonishingly imagined story of remarkable lives \n",
      "\n",
      "\n"
     ]
    },
    {
     "data": {
      "text/plain": [
       "[{'label': 'surprise', 'score': 0.729602038860321},\n",
       " {'label': 'neutral', 'score': 0.14038607478141785},\n",
       " {'label': 'fear', 'score': 0.06816229224205017},\n",
       " {'label': 'joy', 'score': 0.04794258251786232},\n",
       " {'label': 'anger', 'score': 0.009156374260783195},\n",
       " {'label': 'disgust', 'score': 0.002628477755934},\n",
       " {'label': 'sadness', 'score': 0.0021221644710749388}]"
      ]
     },
     "execution_count": 76,
     "metadata": {},
     "output_type": "execute_result"
    }
   ],
   "source": [
    "# predict the sentiment of each sentence in the first book\n",
    "sentences = books.description[0].split(\".\")\n",
    "predictions = classifier(sentences)\n",
    "\n",
    "# first sentence and its prediction\n",
    "print(sentences[0], \"\\n\\n\")\n",
    "predictions[0]"
   ]
  },
  {
   "cell_type": "code",
   "execution_count": 77,
   "id": "800a0b27-32bf-4239-a827-4cbb28cf363a",
   "metadata": {},
   "outputs": [
    {
     "data": {
      "text/plain": [
       "[[{'label': 'surprise', 'score': 0.729602038860321},\n",
       "  {'label': 'neutral', 'score': 0.14038607478141785},\n",
       "  {'label': 'fear', 'score': 0.06816229224205017},\n",
       "  {'label': 'joy', 'score': 0.04794258251786232},\n",
       "  {'label': 'anger', 'score': 0.009156374260783195},\n",
       "  {'label': 'disgust', 'score': 0.002628477755934},\n",
       "  {'label': 'sadness', 'score': 0.0021221644710749388}],\n",
       " [{'label': 'neutral', 'score': 0.44937077164649963},\n",
       "  {'label': 'disgust', 'score': 0.27359139919281006},\n",
       "  {'label': 'joy', 'score': 0.10908306390047073},\n",
       "  {'label': 'sadness', 'score': 0.09362738579511642},\n",
       "  {'label': 'anger', 'score': 0.040478240698575974},\n",
       "  {'label': 'surprise', 'score': 0.02697017788887024},\n",
       "  {'label': 'fear', 'score': 0.0068790484219789505}],\n",
       " [{'label': 'neutral', 'score': 0.6462157964706421},\n",
       "  {'label': 'sadness', 'score': 0.24273352324962616},\n",
       "  {'label': 'disgust', 'score': 0.04342266544699669},\n",
       "  {'label': 'surprise', 'score': 0.028300534933805466},\n",
       "  {'label': 'joy', 'score': 0.014211485162377357},\n",
       "  {'label': 'fear', 'score': 0.014084087684750557},\n",
       "  {'label': 'anger', 'score': 0.011031894013285637}],\n",
       " [{'label': 'fear', 'score': 0.9281681180000305},\n",
       "  {'label': 'anger', 'score': 0.03219093754887581},\n",
       "  {'label': 'neutral', 'score': 0.01280868798494339},\n",
       "  {'label': 'sadness', 'score': 0.008756876923143864},\n",
       "  {'label': 'surprise', 'score': 0.008597906678915024},\n",
       "  {'label': 'disgust', 'score': 0.008431830443441868},\n",
       "  {'label': 'joy', 'score': 0.0010455821175128222}],\n",
       " [{'label': 'sadness', 'score': 0.9671575427055359},\n",
       "  {'label': 'neutral', 'score': 0.015104157850146294},\n",
       "  {'label': 'disgust', 'score': 0.006480599287897348},\n",
       "  {'label': 'fear', 'score': 0.005393992643803358},\n",
       "  {'label': 'surprise', 'score': 0.0022869419772177935},\n",
       "  {'label': 'anger', 'score': 0.0018428912153467536},\n",
       "  {'label': 'joy', 'score': 0.0017338789766654372}],\n",
       " [{'label': 'joy', 'score': 0.9327982664108276},\n",
       "  {'label': 'disgust', 'score': 0.03771700710058212},\n",
       "  {'label': 'neutral', 'score': 0.015891820192337036},\n",
       "  {'label': 'sadness', 'score': 0.006444503553211689},\n",
       "  {'label': 'anger', 'score': 0.005024963989853859},\n",
       "  {'label': 'surprise', 'score': 0.0015812061028555036},\n",
       "  {'label': 'fear', 'score': 0.0005423057591542602}],\n",
       " [{'label': 'joy', 'score': 0.6528709530830383},\n",
       "  {'label': 'neutral', 'score': 0.25427451729774475},\n",
       "  {'label': 'surprise', 'score': 0.06808296591043472},\n",
       "  {'label': 'sadness', 'score': 0.009908993728458881},\n",
       "  {'label': 'disgust', 'score': 0.006512218154966831},\n",
       "  {'label': 'anger', 'score': 0.004821305628865957},\n",
       "  {'label': 'fear', 'score': 0.0035290149971842766}],\n",
       " [{'label': 'neutral', 'score': 0.5494772791862488},\n",
       "  {'label': 'sadness', 'score': 0.11169009655714035},\n",
       "  {'label': 'disgust', 'score': 0.10400658845901489},\n",
       "  {'label': 'surprise', 'score': 0.07876544445753098},\n",
       "  {'label': 'anger', 'score': 0.06413355469703674},\n",
       "  {'label': 'fear', 'score': 0.05136274918913841},\n",
       "  {'label': 'joy', 'score': 0.040564365684986115}]]"
      ]
     },
     "execution_count": 77,
     "metadata": {},
     "output_type": "execute_result"
    }
   ],
   "source": [
    "# print all prediction\n",
    "predictions"
   ]
  },
  {
   "cell_type": "code",
   "execution_count": 78,
   "id": "d65579a5-9175-467e-b24e-892e78fc623f",
   "metadata": {},
   "outputs": [
    {
     "data": {
      "text/plain": [
       "[{'label': 'anger', 'score': 0.009156374260783195},\n",
       " {'label': 'disgust', 'score': 0.002628477755934},\n",
       " {'label': 'fear', 'score': 0.06816229224205017},\n",
       " {'label': 'joy', 'score': 0.04794258251786232},\n",
       " {'label': 'neutral', 'score': 0.14038607478141785},\n",
       " {'label': 'sadness', 'score': 0.0021221644710749388},\n",
       " {'label': 'surprise', 'score': 0.729602038860321}]"
      ]
     },
     "execution_count": 78,
     "metadata": {},
     "output_type": "execute_result"
    }
   ],
   "source": [
    "# sort the result of the prediction of the first sentence by label: \n",
    "sorted(predictions[0], key=lambda x: x[\"label\"])"
   ]
  },
  {
   "cell_type": "markdown",
   "id": "01e95430-c825-4f0c-ace3-448f7d08466f",
   "metadata": {},
   "source": [
    "Creating new features that represent the highest probability of each sentiments corresponding to sentences in a book description."
   ]
  },
  {
   "cell_type": "code",
   "execution_count": 79,
   "id": "22f23faa-358a-4fed-b082-76b3d4a89ad8",
   "metadata": {},
   "outputs": [],
   "source": [
    "emotion_labels = [\"anger\", \"disgust\", \"fear\", \"joy\", \"sadness\", \"surprise\", \"neutral\"]\n",
    "\n",
    "def calculate_max_emotion_scores(predictions):\n",
    "    max_scores = {label: -np.inf for label in emotion_labels}\n",
    "    \n",
    "    for prediction in predictions:\n",
    "        for p in prediction:  \n",
    "            label, score = p[\"label\"], p[\"score\"]\n",
    "            if score > max_scores[label]:\n",
    "                max_scores[label] = score\n",
    "\n",
    "    return max_scores"
   ]
  },
  {
   "cell_type": "code",
   "execution_count": 80,
   "id": "2b302030-e3bd-4479-bd2f-11f22b6923cf",
   "metadata": {},
   "outputs": [
    {
     "data": {
      "text/plain": [
       "{'anger': 0.06413355469703674,\n",
       " 'disgust': 0.27359139919281006,\n",
       " 'fear': 0.9281681180000305,\n",
       " 'joy': 0.9327982664108276,\n",
       " 'sadness': 0.9671575427055359,\n",
       " 'surprise': 0.729602038860321,\n",
       " 'neutral': 0.6462157964706421}"
      ]
     },
     "execution_count": 80,
     "metadata": {},
     "output_type": "execute_result"
    }
   ],
   "source": [
    "calculate_max_emotion_scores(predictions)"
   ]
  },
  {
   "cell_type": "code",
   "execution_count": 81,
   "id": "f7abbac1-d258-4601-938f-e5a5423f74fb",
   "metadata": {},
   "outputs": [],
   "source": [
    "# inference the first 10 books in the book dataset\n",
    "\n",
    "isbn = []\n",
    "emotion_scores = {label: [] for label in emotion_labels}\n",
    "\n",
    "for i in range(10):\n",
    "    isbn.append(books.loc[i, \"isbn13\"])   \n",
    "    sentences = books.loc[i, \"description\"].split(\".\")\n",
    "    predictions = classifier(sentences)  \n",
    "    max_scores = calculate_max_emotion_scores(predictions) # book for each descriction\n",
    "\n",
    "    for label in emotion_labels:\n",
    "        emotion_scores[label].append(max_scores[label])"
   ]
  },
  {
   "cell_type": "code",
   "execution_count": 82,
   "id": "4fe69ca5-d51d-4531-9b32-e0d4ace0ba88",
   "metadata": {},
   "outputs": [
    {
     "data": {
      "text/plain": [
       "{'anger': [0.06413355469703674,\n",
       "  0.6126194000244141,\n",
       "  0.06413355469703674,\n",
       "  0.35148441791534424,\n",
       "  0.08141238987445831,\n",
       "  0.23222465813159943,\n",
       "  0.5381842255592346,\n",
       "  0.06413355469703674,\n",
       "  0.3006700873374939,\n",
       "  0.06413355469703674],\n",
       " 'disgust': [0.27359139919281006,\n",
       "  0.3482847809791565,\n",
       "  0.10400658845901489,\n",
       "  0.1507224589586258,\n",
       "  0.18449527025222778,\n",
       "  0.7271749377250671,\n",
       "  0.155854731798172,\n",
       "  0.10400658845901489,\n",
       "  0.279481440782547,\n",
       "  0.17792704701423645],\n",
       " 'fear': [0.9281681180000305,\n",
       "  0.9425276517868042,\n",
       "  0.9723208546638489,\n",
       "  0.36070606112480164,\n",
       "  0.09504339843988419,\n",
       "  0.05136274918913841,\n",
       "  0.7474274635314941,\n",
       "  0.40449756383895874,\n",
       "  0.9155240654945374,\n",
       "  0.05136274918913841],\n",
       " 'joy': [0.9327982664108276,\n",
       "  0.7044221758842468,\n",
       "  0.7672382593154907,\n",
       "  0.2518813908100128,\n",
       "  0.040564365684986115,\n",
       "  0.043375786393880844,\n",
       "  0.8725655674934387,\n",
       "  0.040564365684986115,\n",
       "  0.040564365684986115,\n",
       "  0.040564365684986115],\n",
       " 'sadness': [0.9671575427055359,\n",
       "  0.11169009655714035,\n",
       "  0.11169009655714035,\n",
       "  0.11169009655714035,\n",
       "  0.47588005661964417,\n",
       "  0.11169009655714035,\n",
       "  0.40800145268440247,\n",
       "  0.8202825784683228,\n",
       "  0.35446134209632874,\n",
       "  0.11169009655714035],\n",
       " 'surprise': [0.729602038860321,\n",
       "  0.2525460422039032,\n",
       "  0.07876544445753098,\n",
       "  0.07876544445753098,\n",
       "  0.07876544445753098,\n",
       "  0.2719033658504486,\n",
       "  0.07876544445753098,\n",
       "  0.23448672890663147,\n",
       "  0.13561387360095978,\n",
       "  0.07876544445753098],\n",
       " 'neutral': [0.6462157964706421,\n",
       "  0.8879395127296448,\n",
       "  0.5494772791862488,\n",
       "  0.7326847910881042,\n",
       "  0.8843898177146912,\n",
       "  0.621392011642456,\n",
       "  0.71219402551651,\n",
       "  0.5494772791862488,\n",
       "  0.840289294719696,\n",
       "  0.8603721857070923]}"
      ]
     },
     "execution_count": 82,
     "metadata": {},
     "output_type": "execute_result"
    }
   ],
   "source": [
    "emotion_scores"
   ]
  },
  {
   "cell_type": "markdown",
   "id": "19bee61f-82cd-4c93-b0ab-7bd8ddeed94d",
   "metadata": {},
   "source": [
    "Putting it all together for all books:"
   ]
  },
  {
   "cell_type": "code",
   "execution_count": 84,
   "id": "38dada3a-ed80-467e-ae7e-eeafb1238948",
   "metadata": {},
   "outputs": [
    {
     "name": "stderr",
     "output_type": "stream",
     "text": [
      "100%|██████████████████████████████████████████████████████████████████████████████████████████████████████████████████████| 57/57 [27:06<00:00, 28.54s/it]\n"
     ]
    }
   ],
   "source": [
    "emotion_labels = [\"anger\", \"disgust\", \"fear\", \"joy\", \"sadness\", \"surprise\", \"neutral\"]\n",
    "isbn = []\n",
    "emotion_scores = {label: [] for label in emotion_labels}\n",
    "\n",
    "chunk_size = 100\n",
    "\n",
    "for start in tqdm(range(0, len(books), chunk_size)):\n",
    "    \n",
    "    end = min(start + chunk_size, len(books))\n",
    "    \n",
    "    for i in range(start, end):\n",
    "        isbn.append(books.loc[i, \"isbn13\"])   \n",
    "        sentences = books.loc[i, \"description\"].split(\".\")\n",
    "        predictions = classifier(sentences)  \n",
    "        max_scores = calculate_max_emotion_scores(predictions) # book for each descriction\n",
    "    \n",
    "        for label in emotion_labels:\n",
    "            emotion_scores[label].append(max_scores[label])"
   ]
  },
  {
   "cell_type": "code",
   "execution_count": 85,
   "id": "9af6c888-a610-43ee-b019-e0c98dbe033a",
   "metadata": {},
   "outputs": [
    {
     "name": "stdout",
     "output_type": "stream",
     "text": [
      "(5693, 8)\n"
     ]
    },
    {
     "data": {
      "text/html": [
       "<div>\n",
       "<style scoped>\n",
       "    .dataframe tbody tr th:only-of-type {\n",
       "        vertical-align: middle;\n",
       "    }\n",
       "\n",
       "    .dataframe tbody tr th {\n",
       "        vertical-align: top;\n",
       "    }\n",
       "\n",
       "    .dataframe thead th {\n",
       "        text-align: right;\n",
       "    }\n",
       "</style>\n",
       "<table border=\"1\" class=\"dataframe\">\n",
       "  <thead>\n",
       "    <tr style=\"text-align: right;\">\n",
       "      <th></th>\n",
       "      <th>anger</th>\n",
       "      <th>disgust</th>\n",
       "      <th>fear</th>\n",
       "      <th>joy</th>\n",
       "      <th>sadness</th>\n",
       "      <th>surprise</th>\n",
       "      <th>neutral</th>\n",
       "      <th>isbn13</th>\n",
       "    </tr>\n",
       "  </thead>\n",
       "  <tbody>\n",
       "    <tr>\n",
       "      <th>0</th>\n",
       "      <td>0.064134</td>\n",
       "      <td>0.273591</td>\n",
       "      <td>0.928168</td>\n",
       "      <td>0.932798</td>\n",
       "      <td>0.967158</td>\n",
       "      <td>0.729602</td>\n",
       "      <td>0.646216</td>\n",
       "      <td>9780002005883</td>\n",
       "    </tr>\n",
       "    <tr>\n",
       "      <th>1</th>\n",
       "      <td>0.612619</td>\n",
       "      <td>0.348285</td>\n",
       "      <td>0.942528</td>\n",
       "      <td>0.704422</td>\n",
       "      <td>0.111690</td>\n",
       "      <td>0.252546</td>\n",
       "      <td>0.887940</td>\n",
       "      <td>9780002261982</td>\n",
       "    </tr>\n",
       "  </tbody>\n",
       "</table>\n",
       "</div>"
      ],
      "text/plain": [
       "      anger   disgust      fear       joy   sadness  surprise   neutral  \\\n",
       "0  0.064134  0.273591  0.928168  0.932798  0.967158  0.729602  0.646216   \n",
       "1  0.612619  0.348285  0.942528  0.704422  0.111690  0.252546  0.887940   \n",
       "\n",
       "          isbn13  \n",
       "0  9780002005883  \n",
       "1  9780002261982  "
      ]
     },
     "execution_count": 85,
     "metadata": {},
     "output_type": "execute_result"
    }
   ],
   "source": [
    "emotions_df = pd.DataFrame(emotion_scores)\n",
    "emotions_df[\"isbn13\"] = isbn\n",
    "print(emotions_df.shape)\n",
    "emotions_df.head(2)"
   ]
  },
  {
   "cell_type": "markdown",
   "id": "79116920-d708-4f8d-a885-7c42550e61e6",
   "metadata": {},
   "source": [
    "Merge the new features to the `books` dataframe:"
   ]
  },
  {
   "cell_type": "code",
   "execution_count": 86,
   "id": "787fa871-f0e8-4228-a5b6-1f66b203aa9b",
   "metadata": {},
   "outputs": [
    {
     "data": {
      "text/html": [
       "<div>\n",
       "<style scoped>\n",
       "    .dataframe tbody tr th:only-of-type {\n",
       "        vertical-align: middle;\n",
       "    }\n",
       "\n",
       "    .dataframe tbody tr th {\n",
       "        vertical-align: top;\n",
       "    }\n",
       "\n",
       "    .dataframe thead th {\n",
       "        text-align: right;\n",
       "    }\n",
       "</style>\n",
       "<table border=\"1\" class=\"dataframe\">\n",
       "  <thead>\n",
       "    <tr style=\"text-align: right;\">\n",
       "      <th></th>\n",
       "      <th>isbn13</th>\n",
       "      <th>isbn10</th>\n",
       "      <th>title</th>\n",
       "      <th>authors</th>\n",
       "      <th>categories</th>\n",
       "      <th>thumbnail</th>\n",
       "      <th>description</th>\n",
       "      <th>published_year</th>\n",
       "      <th>average_rating</th>\n",
       "      <th>num_pages</th>\n",
       "      <th>...</th>\n",
       "      <th>title_and_subtitle</th>\n",
       "      <th>tagged_description</th>\n",
       "      <th>simple_categories</th>\n",
       "      <th>anger</th>\n",
       "      <th>disgust</th>\n",
       "      <th>fear</th>\n",
       "      <th>joy</th>\n",
       "      <th>sadness</th>\n",
       "      <th>surprise</th>\n",
       "      <th>neutral</th>\n",
       "    </tr>\n",
       "  </thead>\n",
       "  <tbody>\n",
       "    <tr>\n",
       "      <th>5691</th>\n",
       "      <td>9789027712059</td>\n",
       "      <td>9027712050</td>\n",
       "      <td>The Berlin Phenomenology</td>\n",
       "      <td>Georg Wilhelm Friedrich Hegel</td>\n",
       "      <td>History</td>\n",
       "      <td>http://books.google.com/books/content?id=Vy7Sk...</td>\n",
       "      <td>Since the three volume edition ofHegel's Philo...</td>\n",
       "      <td>1981.0</td>\n",
       "      <td>0.0</td>\n",
       "      <td>210.0</td>\n",
       "      <td>...</td>\n",
       "      <td>The Berlin Phenomenology</td>\n",
       "      <td>9789027712059 Since the three volume edition o...</td>\n",
       "      <td>Nonfiction</td>\n",
       "      <td>0.064134</td>\n",
       "      <td>0.104007</td>\n",
       "      <td>0.051363</td>\n",
       "      <td>0.958549</td>\n",
       "      <td>0.11169</td>\n",
       "      <td>0.078765</td>\n",
       "      <td>0.915193</td>\n",
       "    </tr>\n",
       "    <tr>\n",
       "      <th>5692</th>\n",
       "      <td>9789042003408</td>\n",
       "      <td>9042003405</td>\n",
       "      <td>'I'm Telling You Stories'</td>\n",
       "      <td>Helena Grice;Tim Woods</td>\n",
       "      <td>Literary Criticism</td>\n",
       "      <td>http://books.google.com/books/content?id=2lVyR...</td>\n",
       "      <td>This is a jubilant and rewarding collection of...</td>\n",
       "      <td>1998.0</td>\n",
       "      <td>3.7</td>\n",
       "      <td>136.0</td>\n",
       "      <td>...</td>\n",
       "      <td>'I'm Telling You Stories': Jeanette Winterson ...</td>\n",
       "      <td>9789042003408 This is a jubilant and rewarding...</td>\n",
       "      <td>Nonfiction</td>\n",
       "      <td>0.064134</td>\n",
       "      <td>0.104007</td>\n",
       "      <td>0.051363</td>\n",
       "      <td>0.991484</td>\n",
       "      <td>0.11169</td>\n",
       "      <td>0.078765</td>\n",
       "      <td>0.549477</td>\n",
       "    </tr>\n",
       "  </tbody>\n",
       "</table>\n",
       "<p>2 rows × 21 columns</p>\n",
       "</div>"
      ],
      "text/plain": [
       "             isbn13      isbn10                      title  \\\n",
       "5691  9789027712059  9027712050   The Berlin Phenomenology   \n",
       "5692  9789042003408  9042003405  'I'm Telling You Stories'   \n",
       "\n",
       "                            authors          categories  \\\n",
       "5691  Georg Wilhelm Friedrich Hegel             History   \n",
       "5692         Helena Grice;Tim Woods  Literary Criticism   \n",
       "\n",
       "                                              thumbnail  \\\n",
       "5691  http://books.google.com/books/content?id=Vy7Sk...   \n",
       "5692  http://books.google.com/books/content?id=2lVyR...   \n",
       "\n",
       "                                            description  published_year  \\\n",
       "5691  Since the three volume edition ofHegel's Philo...          1981.0   \n",
       "5692  This is a jubilant and rewarding collection of...          1998.0   \n",
       "\n",
       "      average_rating  num_pages  ...  \\\n",
       "5691             0.0      210.0  ...   \n",
       "5692             3.7      136.0  ...   \n",
       "\n",
       "                                     title_and_subtitle  \\\n",
       "5691                           The Berlin Phenomenology   \n",
       "5692  'I'm Telling You Stories': Jeanette Winterson ...   \n",
       "\n",
       "                                     tagged_description simple_categories  \\\n",
       "5691  9789027712059 Since the three volume edition o...        Nonfiction   \n",
       "5692  9789042003408 This is a jubilant and rewarding...        Nonfiction   \n",
       "\n",
       "         anger   disgust      fear       joy  sadness  surprise   neutral  \n",
       "5691  0.064134  0.104007  0.051363  0.958549  0.11169  0.078765  0.915193  \n",
       "5692  0.064134  0.104007  0.051363  0.991484  0.11169  0.078765  0.549477  \n",
       "\n",
       "[2 rows x 21 columns]"
      ]
     },
     "execution_count": 86,
     "metadata": {},
     "output_type": "execute_result"
    }
   ],
   "source": [
    "books = pd.merge(books, emotions_df, on = \"isbn13\")\n",
    "books.tail(2)"
   ]
  },
  {
   "cell_type": "markdown",
   "id": "a6e7f0a3-cda1-429b-a538-31f27cd667b3",
   "metadata": {},
   "source": [
    "### Save the Marged Dataframe as a New CSV File"
   ]
  },
  {
   "cell_type": "code",
   "execution_count": 87,
   "id": "5411e17a-6038-45ff-a047-5bfabbdbba51",
   "metadata": {},
   "outputs": [],
   "source": [
    "books.to_csv(\"books_with_categories_and_emotions.csv\", index = False)"
   ]
  }
 ],
 "metadata": {
  "kernelspec": {
   "display_name": "Python (recommender-venv)",
   "language": "python",
   "name": ".venv"
  },
  "language_info": {
   "codemirror_mode": {
    "name": "ipython",
    "version": 3
   },
   "file_extension": ".py",
   "mimetype": "text/x-python",
   "name": "python",
   "nbconvert_exporter": "python",
   "pygments_lexer": "ipython3",
   "version": "3.11.0"
  }
 },
 "nbformat": 4,
 "nbformat_minor": 5
}
